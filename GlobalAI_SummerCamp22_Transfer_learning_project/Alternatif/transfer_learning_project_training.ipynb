{
  "nbformat": 4,
  "nbformat_minor": 0,
  "metadata": {
    "colab": {
      "provenance": []
    },
    "kernelspec": {
      "name": "python3",
      "display_name": "Python 3"
    },
    "language_info": {
      "name": "python"
    }
  },
  "cells": [
    {
      "cell_type": "code",
      "execution_count": 1,
      "metadata": {
        "colab": {
          "base_uri": "https://localhost:8080/"
        },
        "id": "IhGOqpS62XxU",
        "outputId": "2737fb41-df6d-40ca-fab9-e9b14d1d1d6c"
      },
      "outputs": [
        {
          "output_type": "stream",
          "name": "stdout",
          "text": [
            "Mounted at /content/drive\n"
          ]
        }
      ],
      "source": [
        "from google.colab import drive\n",
        "drive.mount('/content/drive')"
      ]
    },
    {
      "cell_type": "code",
      "source": [
        "import pickle\n",
        "import numpy as np\n",
        "import matplotlib.pyplot as plt\n",
        "\n",
        "import tensorflow as tf"
      ],
      "metadata": {
        "id": "HPBt1hXv2ayR"
      },
      "execution_count": 2,
      "outputs": []
    },
    {
      "cell_type": "code",
      "source": [
        "path_to_image = path_to_image = \"/content/drive/MyDrive/pickles\""
      ],
      "metadata": {
        "id": "Y5TzHTCH2egO"
      },
      "execution_count": null,
      "outputs": []
    },
    {
      "cell_type": "code",
      "source": [
        "X_train = pickle.load(open(\"/content/drive/MyDrive/pickles/X_train.pickle\", \"rb\"))\n",
        "y_train = pickle.load(open(\"/content/drive/MyDrive/pickles/y_train.pickle\", \"rb\"))\n",
        "\n",
        "X_val = pickle.load(open(\"/content/drive/MyDrive/pickles/X_val.pickle\", \"rb\"))\n",
        "y_val = pickle.load(open(\"/content/drive/MyDrive/pickles/y_val.pickle\", \"rb\"))\n",
        "\n",
        "X_test = pickle.load(open(\"/content/drive/MyDrive/pickles/X_test.pickle\", \"rb\"))\n",
        "y_test = pickle.load(open(\"/content/drive/MyDrive/pickles/y_test.pickle\", \"rb\"))"
      ],
      "metadata": {
        "id": "vp9P8kyg2eQQ"
      },
      "execution_count": 3,
      "outputs": []
    },
    {
      "cell_type": "code",
      "source": [
        "base_model = tf.keras.applications.mobilenet_v2.MobileNetV2(include_top = False,\n",
        "                                                     weights = 'imagenet',\n",
        "                                                     input_shape = (128,128,3),\n",
        "                                                     pooling=\"max\")"
      ],
      "metadata": {
        "colab": {
          "base_uri": "https://localhost:8080/"
        },
        "id": "9LFx8MY2242C",
        "outputId": "23e794dd-100f-4a22-d19b-ab5d5bdedcfe"
      },
      "execution_count": 4,
      "outputs": [
        {
          "output_type": "stream",
          "name": "stdout",
          "text": [
            "Downloading data from https://storage.googleapis.com/tensorflow/keras-applications/mobilenet_v2/mobilenet_v2_weights_tf_dim_ordering_tf_kernels_1.0_128_no_top.h5\n",
            "9412608/9406464 [==============================] - 0s 0us/step\n",
            "9420800/9406464 [==============================] - 0s 0us/step\n"
          ]
        }
      ]
    },
    {
      "cell_type": "code",
      "source": [
        "for layer in base_model.layers:\n",
        "    layer.trainable = False"
      ],
      "metadata": {
        "id": "EAl-Nu06269t"
      },
      "execution_count": 5,
      "outputs": []
    },
    {
      "cell_type": "code",
      "source": [
        "x = tf.keras.layers.Flatten()(base_model.output)\n",
        "x = tf.keras.layers.Dense(1024, activation='relu')(x)\n",
        "x = tf.keras.layers.Dropout(0.5)(x)\n",
        "x = tf.keras.layers.Dense(1024, activation='relu')(x)\n",
        "x = tf.keras.layers.Dropout(0.5)(x)\n",
        "x = tf.keras.layers.Dense(1024, activation='relu')(x)\n",
        "x = tf.keras.layers.Dropout(0.5)(x)\n",
        "x = tf.keras.layers.Dense(1024, activation='relu')(x)\n",
        "x = tf.keras.layers.Dropout(0.5)(x)\n",
        "x = tf.keras.layers.Dense(1024, activation='relu')(x)\n",
        "x = tf.keras.layers.Dropout(0.5)(x)\n",
        "predictions = tf.keras.layers.Dense(1, activation = 'sigmoid')(x)"
      ],
      "metadata": {
        "id": "OvTrUEHz29ai"
      },
      "execution_count": 6,
      "outputs": []
    },
    {
      "cell_type": "code",
      "source": [
        "head_model = tf.keras.Model(inputs = base_model.input, outputs = predictions)"
      ],
      "metadata": {
        "id": "Ljy4nBY32_N9"
      },
      "execution_count": 7,
      "outputs": []
    },
    {
      "cell_type": "code",
      "source": [
        "head_model.compile(optimizer='adam', loss=tf.keras.losses.binary_crossentropy, metrics=['accuracy'])"
      ],
      "metadata": {
        "id": "6TjnWZb13An5"
      },
      "execution_count": 8,
      "outputs": []
    },
    {
      "cell_type": "code",
      "source": [
        "history = head_model.fit(X_train, y_train, batch_size=128, epochs=25, validation_data=(X_val, y_val))"
      ],
      "metadata": {
        "colab": {
          "base_uri": "https://localhost:8080/"
        },
        "id": "IvZYSIh93C8q",
        "outputId": "29a5c7c4-0833-4fa0-af94-92e6b6cfc279"
      },
      "execution_count": 9,
      "outputs": [
        {
          "output_type": "stream",
          "name": "stdout",
          "text": [
            "Epoch 1/25\n",
            "13/13 [==============================] - 24s 2s/step - loss: 1.4915 - accuracy: 0.5806 - val_loss: 0.3543 - val_accuracy: 0.8600\n",
            "Epoch 2/25\n",
            "13/13 [==============================] - 18s 1s/step - loss: 0.2714 - accuracy: 0.8938 - val_loss: 0.1917 - val_accuracy: 0.9500\n",
            "Epoch 3/25\n",
            "13/13 [==============================] - 33s 3s/step - loss: 0.2676 - accuracy: 0.9112 - val_loss: 0.1398 - val_accuracy: 0.9400\n",
            "Epoch 4/25\n",
            "13/13 [==============================] - 18s 1s/step - loss: 0.1715 - accuracy: 0.9281 - val_loss: 0.1548 - val_accuracy: 0.9400\n",
            "Epoch 5/25\n",
            "13/13 [==============================] - 18s 1s/step - loss: 0.1352 - accuracy: 0.9563 - val_loss: 0.1288 - val_accuracy: 0.9500\n",
            "Epoch 6/25\n",
            "13/13 [==============================] - 18s 1s/step - loss: 0.0997 - accuracy: 0.9606 - val_loss: 0.1356 - val_accuracy: 0.9500\n",
            "Epoch 7/25\n",
            "13/13 [==============================] - 18s 1s/step - loss: 0.1106 - accuracy: 0.9581 - val_loss: 0.1145 - val_accuracy: 0.9550\n",
            "Epoch 8/25\n",
            "13/13 [==============================] - 19s 1s/step - loss: 0.0817 - accuracy: 0.9694 - val_loss: 0.1111 - val_accuracy: 0.9550\n",
            "Epoch 9/25\n",
            "13/13 [==============================] - 19s 1s/step - loss: 0.0739 - accuracy: 0.9719 - val_loss: 0.1124 - val_accuracy: 0.9650\n",
            "Epoch 10/25\n",
            "13/13 [==============================] - 18s 1s/step - loss: 0.0814 - accuracy: 0.9719 - val_loss: 0.1252 - val_accuracy: 0.9400\n",
            "Epoch 11/25\n",
            "13/13 [==============================] - 18s 1s/step - loss: 0.0476 - accuracy: 0.9806 - val_loss: 0.1324 - val_accuracy: 0.9500\n",
            "Epoch 12/25\n",
            "13/13 [==============================] - 18s 1s/step - loss: 0.0536 - accuracy: 0.9819 - val_loss: 0.1252 - val_accuracy: 0.9500\n",
            "Epoch 13/25\n",
            "13/13 [==============================] - 18s 1s/step - loss: 0.0528 - accuracy: 0.9812 - val_loss: 0.1253 - val_accuracy: 0.9550\n",
            "Epoch 14/25\n",
            "13/13 [==============================] - 19s 1s/step - loss: 0.0433 - accuracy: 0.9862 - val_loss: 0.1333 - val_accuracy: 0.9650\n",
            "Epoch 15/25\n",
            "13/13 [==============================] - 18s 1s/step - loss: 0.0398 - accuracy: 0.9869 - val_loss: 0.1661 - val_accuracy: 0.9450\n",
            "Epoch 16/25\n",
            "13/13 [==============================] - 17s 1s/step - loss: 0.0403 - accuracy: 0.9844 - val_loss: 0.1572 - val_accuracy: 0.9400\n",
            "Epoch 17/25\n",
            "13/13 [==============================] - 18s 1s/step - loss: 0.0273 - accuracy: 0.9906 - val_loss: 0.1670 - val_accuracy: 0.9550\n",
            "Epoch 18/25\n",
            "13/13 [==============================] - 18s 1s/step - loss: 0.0208 - accuracy: 0.9906 - val_loss: 0.1434 - val_accuracy: 0.9500\n",
            "Epoch 19/25\n",
            "13/13 [==============================] - 18s 1s/step - loss: 0.0183 - accuracy: 0.9962 - val_loss: 0.1752 - val_accuracy: 0.9500\n",
            "Epoch 20/25\n",
            "13/13 [==============================] - 18s 1s/step - loss: 0.0162 - accuracy: 0.9937 - val_loss: 0.2196 - val_accuracy: 0.9450\n",
            "Epoch 21/25\n",
            "13/13 [==============================] - 18s 1s/step - loss: 0.0530 - accuracy: 0.9806 - val_loss: 0.2412 - val_accuracy: 0.9400\n",
            "Epoch 22/25\n",
            "13/13 [==============================] - 18s 1s/step - loss: 0.0757 - accuracy: 0.9706 - val_loss: 0.2104 - val_accuracy: 0.9400\n",
            "Epoch 23/25\n",
            "13/13 [==============================] - 18s 1s/step - loss: 0.0472 - accuracy: 0.9825 - val_loss: 0.1384 - val_accuracy: 0.9500\n",
            "Epoch 24/25\n",
            "13/13 [==============================] - 18s 1s/step - loss: 0.0229 - accuracy: 0.9900 - val_loss: 0.1564 - val_accuracy: 0.9700\n",
            "Epoch 25/25\n",
            "13/13 [==============================] - 18s 1s/step - loss: 0.0206 - accuracy: 0.9925 - val_loss: 0.1608 - val_accuracy: 0.9550\n"
          ]
        }
      ]
    },
    {
      "cell_type": "code",
      "source": [
        "head_model.evaluate(X_test, y_test)"
      ],
      "metadata": {
        "colab": {
          "base_uri": "https://localhost:8080/"
        },
        "id": "9ipgyPhW3FIo",
        "outputId": "ced20a70-167d-4d36-a03e-d3424972f3a2"
      },
      "execution_count": 10,
      "outputs": [
        {
          "output_type": "stream",
          "name": "stdout",
          "text": [
            "7/7 [==============================] - 2s 304ms/step - loss: 0.2223 - accuracy: 0.9300\n"
          ]
        },
        {
          "output_type": "execute_result",
          "data": {
            "text/plain": [
              "[0.22229842841625214, 0.9300000071525574]"
            ]
          },
          "metadata": {},
          "execution_count": 10
        }
      ]
    },
    {
      "cell_type": "code",
      "source": [
        "plt.plot(history.history[\"loss\"], label=\"Train\")\n",
        "plt.plot(history.history[\"val_loss\"], label = \"Validation\")\n",
        "plt.xlabel(\"Epoch\")\n",
        "plt.ylabel(\"Loss\")\n",
        "plt.legend()\n",
        "plt.show()"
      ],
      "metadata": {
        "colab": {
          "base_uri": "https://localhost:8080/",
          "height": 279
        },
        "id": "B91dG5NM3ONT",
        "outputId": "7b39d19f-e2b8-468e-b44b-764191d735dc"
      },
      "execution_count": 11,
      "outputs": [
        {
          "output_type": "display_data",
          "data": {
            "text/plain": [
              "<Figure size 432x288 with 1 Axes>"
            ],
            "image/png": "[encoded data removed]"
          },
          "metadata": {
            "needs_background": "light"
          }
        }
      ]
    },
    {
      "cell_type": "code",
      "source": [
        "plt.plot(history.history[\"accuracy\"], label=\"Train\")\n",
        "plt.plot(history.history[\"val_accuracy\"], label = \"Validation\")\n",
        "plt.xlabel(\"Epoch\")\n",
        "plt.ylabel(\"Accuracy\")\n",
        "plt.legend()\n",
        "plt.show()"
      ],
      "metadata": {
        "colab": {
          "base_uri": "https://localhost:8080/",
          "height": 279
        },
        "id": "1Hc-5VoK3QsR",
        "outputId": "5f1d9dde-1cae-48bd-bf04-9ccde3f67ff6"
      },
      "execution_count": 12,
      "outputs": [
        {
          "output_type": "display_data",
          "data": {
            "text/plain": [
              "<Figure size 432x288 with 1 Axes>"
            ],
            "image/png": "[encoded data removed]"
          },
          "metadata": {
            "needs_background": "light"
          }
        }
      ]
    },
    {
      "cell_type": "code",
      "source": [
        "head_model.save(\"trained_model\")"
      ],
      "metadata": {
        "id": "UTUxapjZ3U1z"
      },
      "execution_count": 13,
      "outputs": []
    },
    {
      "cell_type": "code",
      "source": [],
      "metadata": {
        "id": "BCznm26E3XTs"
      },
      "execution_count": null,
      "outputs": []
    }
  ]
}